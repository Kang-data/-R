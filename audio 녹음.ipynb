{
 "cells": [
  {
   "cell_type": "code",
   "execution_count": 15,
   "id": "8e5537c9-78e0-4277-ad03-ab98cc10d4e0",
   "metadata": {},
   "outputs": [
    {
     "name": "stdout",
     "output_type": "stream",
     "text": [
      "Requirement already satisfied: pyaudio in c:\\users\\rkdgu\\anaconda3\\lib\\site-packages (0.2.14)\n"
     ]
    }
   ],
   "source": [
    "!pip install pyaudio"
   ]
  },
  {
   "cell_type": "code",
   "execution_count": 31,
   "id": "0663d7de-bbea-43fb-9a50-ac4c3416df6d",
   "metadata": {},
   "outputs": [],
   "source": [
    "import wave #.wav\n",
    "import pyaudio\n",
    "# Audio signal parameters\n",
    "\n",
    "# -- number of channels\n",
    "# -- sample width 정보의 바이트 수\n",
    "# -- framerate / sample_rate : 44,100 Hz \n",
    "# -- number of frames\n",
    "# -- values of a frame"
   ]
  },
  {
   "cell_type": "markdown",
   "id": "510a2591-25af-4e3b-806d-5cfc33dcaa84",
   "metadata": {},
   "source": [
    "# 신규녹음진행"
   ]
  },
  {
   "cell_type": "code",
   "execution_count": 33,
   "id": "d173ac59-73f9-42e2-845c-66789560e2bf",
   "metadata": {},
   "outputs": [
    {
     "name": "stdout",
     "output_type": "stream",
     "text": [
      "start recording\n"
     ]
    }
   ],
   "source": [
    "wav__new_file_path = \"C:/Users/rkdgu/DScover/메프2025/음성신규녹음파일.wav\"\n",
    "\n",
    "FRAMES_PER_BUFFER = 3200\n",
    "FORMAT = pyaudio.paInt16\n",
    "CHANNELS = 1\n",
    "RATE = 16000\n",
    "\n",
    "p = pyaudio.PyAudio()\n",
    "stream = p.open(\n",
    "    format = FORMAT,\n",
    "    channels = CHANNELS,\n",
    "    rate = RATE,\n",
    "    input = True,\n",
    "    frames_per_buffer = FRAMES_PER_BUFFER\n",
    ")\n",
    "\n",
    "print(\"start recording\")\n",
    "\n",
    "seconds = 10\n",
    "frames = []\n",
    "for i in range(0, int(RATE/FRAMES_PER_BUFFER * seconds)):\n",
    "    data = stream.read(FRAMES_PER_BUFFER)\n",
    "    frames.append(data)\n",
    "\n",
    "stream.stop_stream()\n",
    "stream.close()\n",
    "p.terminate()\n",
    "\n",
    "obj = wave.open(wav__new_file_path,\"wb\")\n",
    "obj.setnchannels(CHANNELS)\n",
    "obj.setsampwidth(p.get_sample_size(FORMAT))\n",
    "obj.setframerate(RATE)\n",
    "obj.writeframes(b\"\".join(frames))\n",
    "obj.close()"
   ]
  },
  {
   "cell_type": "code",
   "execution_count": null,
   "id": "485ebded-1322-4ea4-84fc-ac779f9879e6",
   "metadata": {},
   "outputs": [],
   "source": []
  }
 ],
 "metadata": {
  "kernelspec": {
   "display_name": "Python 3 (ipykernel)",
   "language": "python",
   "name": "python3"
  },
  "language_info": {
   "codemirror_mode": {
    "name": "ipython",
    "version": 3
   },
   "file_extension": ".py",
   "mimetype": "text/x-python",
   "name": "python",
   "nbconvert_exporter": "python",
   "pygments_lexer": "ipython3",
   "version": "3.11.5"
  }
 },
 "nbformat": 4,
 "nbformat_minor": 5
}
